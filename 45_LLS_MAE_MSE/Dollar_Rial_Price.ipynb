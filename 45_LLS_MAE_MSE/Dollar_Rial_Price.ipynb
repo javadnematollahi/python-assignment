{
 "cells": [
  {
   "cell_type": "markdown",
   "metadata": {},
   "source": [
    "## a. Download dataset"
   ]
  },
  {
   "cell_type": "code",
   "execution_count": 34,
   "metadata": {},
   "outputs": [],
   "source": [
    "import pandas as pd\n",
    "import numpy as np\n",
    "import matplotlib.pyplot as plt\n",
    "import re"
   ]
  },
  {
   "cell_type": "code",
   "execution_count": 35,
   "metadata": {},
   "outputs": [
    {
     "data": {
      "text/plain": [
       "(4214, 6)"
      ]
     },
     "execution_count": 35,
     "metadata": {},
     "output_type": "execute_result"
    }
   ],
   "source": [
    "data=pd.read_csv(\"input/Dollar_Dataset.csv\")\n",
    "data.drop(columns = 'Unnamed: 0', inplace = True)\n",
    "data.shape"
   ]
  },
  {
   "cell_type": "code",
   "execution_count": 36,
   "metadata": {},
   "outputs": [
    {
     "name": "stdout",
     "output_type": "stream",
     "text": [
      "(3269, 5)\n"
     ]
    },
    {
     "data": {
      "text/html": [
       "<div>\n",
       "<style scoped>\n",
       "    .dataframe tbody tr th:only-of-type {\n",
       "        vertical-align: middle;\n",
       "    }\n",
       "\n",
       "    .dataframe tbody tr th {\n",
       "        vertical-align: top;\n",
       "    }\n",
       "\n",
       "    .dataframe thead th {\n",
       "        text-align: right;\n",
       "    }\n",
       "</style>\n",
       "<table border=\"1\" class=\"dataframe\">\n",
       "  <thead>\n",
       "    <tr style=\"text-align: right;\">\n",
       "      <th></th>\n",
       "      <th>Date</th>\n",
       "      <th>Open</th>\n",
       "      <th>Low</th>\n",
       "      <th>High</th>\n",
       "      <th>Close</th>\n",
       "    </tr>\n",
       "  </thead>\n",
       "  <tbody>\n",
       "    <tr>\n",
       "      <th>0</th>\n",
       "      <td>2023/07/26</td>\n",
       "      <td>491550</td>\n",
       "      <td>488700</td>\n",
       "      <td>491600</td>\n",
       "      <td>488990</td>\n",
       "    </tr>\n",
       "    <tr>\n",
       "      <th>1</th>\n",
       "      <td>2023/07/25</td>\n",
       "      <td>484470</td>\n",
       "      <td>483900</td>\n",
       "      <td>488900</td>\n",
       "      <td>488370</td>\n",
       "    </tr>\n",
       "    <tr>\n",
       "      <th>2</th>\n",
       "      <td>2023/07/24</td>\n",
       "      <td>480700</td>\n",
       "      <td>480100</td>\n",
       "      <td>486400</td>\n",
       "      <td>486140</td>\n",
       "    </tr>\n",
       "    <tr>\n",
       "      <th>3</th>\n",
       "      <td>2023/07/23</td>\n",
       "      <td>485060</td>\n",
       "      <td>481600</td>\n",
       "      <td>485400</td>\n",
       "      <td>483360</td>\n",
       "    </tr>\n",
       "    <tr>\n",
       "      <th>4</th>\n",
       "      <td>2023/07/22</td>\n",
       "      <td>487830</td>\n",
       "      <td>485600</td>\n",
       "      <td>487900</td>\n",
       "      <td>485810</td>\n",
       "    </tr>\n",
       "  </tbody>\n",
       "</table>\n",
       "</div>"
      ],
      "text/plain": [
       "         Date    Open     Low    High   Close\n",
       "0  2023/07/26  491550  488700  491600  488990\n",
       "1  2023/07/25  484470  483900  488900  488370\n",
       "2  2023/07/24  480700  480100  486400  486140\n",
       "3  2023/07/23  485060  481600  485400  483360\n",
       "4  2023/07/22  487830  485600  487900  485810"
      ]
     },
     "execution_count": 36,
     "metadata": {},
     "output_type": "execute_result"
    }
   ],
   "source": [
    "data[data.duplicated()]\n",
    "data.drop_duplicates(inplace=True)\n",
    "data['High'] = data['High'].apply(lambda x: re.sub(',', '', x))\n",
    "data[\"High\"] = pd.to_numeric(data[\"High\"] , errors='coerce')\n",
    "data['Low'] = data['Low'].apply(lambda x: re.sub(',', '', x))\n",
    "data[\"Low\"] = pd.to_numeric(data[\"Low\"] , errors='coerce')\n",
    "data['Open'] = data['Open'].apply(lambda x: re.sub(',', '', x))\n",
    "data[\"Open\"] = pd.to_numeric(data[\"Open\"] , errors='coerce')\n",
    "data['Close'] = data['Close'].apply(lambda x: re.sub(',', '', x))\n",
    "data[\"Close\"] = pd.to_numeric(data[\"Close\"] , errors='coerce')\n",
    "data.drop(columns = 'Persian_Date', inplace = True)\n",
    "\n",
    "print(data.shape)\n",
    "data.head()"
   ]
  },
  {
   "cell_type": "markdown",
   "metadata": {},
   "source": [
    "## b. Divide dataset to Ahmadinejad, Rouhani and Raisi's presidency"
   ]
  },
  {
   "cell_type": "code",
   "execution_count": 37,
   "metadata": {},
   "outputs": [
    {
     "name": "stdout",
     "output_type": "stream",
     "text": [
      "(482, 6)\n",
      "(2316, 6)\n",
      "(470, 6)\n"
     ]
    },
    {
     "data": {
      "text/html": [
       "<div>\n",
       "<style scoped>\n",
       "    .dataframe tbody tr th:only-of-type {\n",
       "        vertical-align: middle;\n",
       "    }\n",
       "\n",
       "    .dataframe tbody tr th {\n",
       "        vertical-align: top;\n",
       "    }\n",
       "\n",
       "    .dataframe thead th {\n",
       "        text-align: right;\n",
       "    }\n",
       "</style>\n",
       "<table border=\"1\" class=\"dataframe\">\n",
       "  <thead>\n",
       "    <tr style=\"text-align: right;\">\n",
       "      <th></th>\n",
       "      <th>index</th>\n",
       "      <th>Date</th>\n",
       "      <th>Open</th>\n",
       "      <th>Low</th>\n",
       "      <th>High</th>\n",
       "      <th>Close</th>\n",
       "    </tr>\n",
       "  </thead>\n",
       "  <tbody>\n",
       "    <tr>\n",
       "      <th>0</th>\n",
       "      <td>721</td>\n",
       "      <td>2021-08-02</td>\n",
       "      <td>255690</td>\n",
       "      <td>254590</td>\n",
       "      <td>256640</td>\n",
       "      <td>255190</td>\n",
       "    </tr>\n",
       "    <tr>\n",
       "      <th>1</th>\n",
       "      <td>722</td>\n",
       "      <td>2021-08-01</td>\n",
       "      <td>257190</td>\n",
       "      <td>254290</td>\n",
       "      <td>257640</td>\n",
       "      <td>254890</td>\n",
       "    </tr>\n",
       "    <tr>\n",
       "      <th>2</th>\n",
       "      <td>723</td>\n",
       "      <td>2021-07-31</td>\n",
       "      <td>260270</td>\n",
       "      <td>256990</td>\n",
       "      <td>260640</td>\n",
       "      <td>257290</td>\n",
       "    </tr>\n",
       "    <tr>\n",
       "      <th>3</th>\n",
       "      <td>724</td>\n",
       "      <td>2021-07-28</td>\n",
       "      <td>251800</td>\n",
       "      <td>251690</td>\n",
       "      <td>256240</td>\n",
       "      <td>255990</td>\n",
       "    </tr>\n",
       "    <tr>\n",
       "      <th>4</th>\n",
       "      <td>725</td>\n",
       "      <td>2021-07-27</td>\n",
       "      <td>250780</td>\n",
       "      <td>250690</td>\n",
       "      <td>252340</td>\n",
       "      <td>251660</td>\n",
       "    </tr>\n",
       "  </tbody>\n",
       "</table>\n",
       "</div>"
      ],
      "text/plain": [
       "   index       Date    Open     Low    High   Close\n",
       "0    721 2021-08-02  255690  254590  256640  255190\n",
       "1    722 2021-08-01  257190  254290  257640  254890\n",
       "2    723 2021-07-31  260270  256990  260640  257290\n",
       "3    724 2021-07-28  251800  251690  256240  255990\n",
       "4    725 2021-07-27  250780  250690  252340  251660"
      ]
     },
     "execution_count": 37,
     "metadata": {},
     "output_type": "execute_result"
    }
   ],
   "source": [
    "data['Date'] = pd.to_datetime(data['Date'], format=\"%Y/%m/%d\")\n",
    "ahmadinejad=data.loc[(data['Date'] >= \"2011/11/27\")\n",
    "                     & (data['Date'] < \"2013/08/03\")].reset_index()\n",
    "rouhani=data.loc[(data['Date'] >= \"2013/08/03\")\n",
    "                     & (data['Date'] < \"2021/08/03\")].reset_index()\n",
    "raisi=data.loc[(data['Date'] >= \"2021/08/03\")\n",
    "                     & (data['Date'] < \"2023/07/26\")].reset_index()\n",
    "print(ahmadinejad.shape)\n",
    "print(rouhani.shape)\n",
    "print(raisi.shape)\n",
    "rouhani.head()"
   ]
  },
  {
   "cell_type": "markdown",
   "metadata": {},
   "source": [
    "## c. Show the highest dollar price in Ahmadinejad, Rouhani and Raisi's presidency respectively"
   ]
  },
  {
   "cell_type": "code",
   "execution_count": 38,
   "metadata": {},
   "outputs": [
    {
     "name": "stdout",
     "output_type": "stream",
     "text": [
      "max price of dollar in ahmadinejad presidency: 39700\n",
      "max price of dollar in Rouhani presidency: 320060\n",
      "max price of dollar in raisi presidency: 555600\n"
     ]
    }
   ],
   "source": [
    "max_price_dollar_ahmadinejad=ahmadinejad['High'].max()\n",
    "print(f'max price of dollar in ahmadinejad presidency: {max_price_dollar_ahmadinejad}')\n",
    "max_price_dollar_rouhani=rouhani['High'].max()\n",
    "print(f'max price of dollar in Rouhani presidency: {max_price_dollar_rouhani}')\n",
    "max_price_dollar_raisi=raisi['High'].max()\n",
    "print(f'max price of dollar in raisi presidency: {max_price_dollar_raisi}')"
   ]
  },
  {
   "cell_type": "markdown",
   "metadata": {},
   "source": [
    "|  ------------Max Dollar Price In 3 presidency----------------        |\n",
    "|-------------------------------------------------------------------------|\n",
    "\n",
    "|                  |     Price(Rial)    |\n",
    "|------------------|------------|\n",
    "|      max price of dollar in ahmadinejad presidency      | 39700 | \n",
    "|      max price of dollar in Rouhani presidency          | 320060 |\n",
    "|      max price of dollar in raisi presidency            | 555600 |"
   ]
  },
  {
   "cell_type": "markdown",
   "metadata": {},
   "source": [
    "## d. Show the lowest dollar price in Ahmadinejad, Rouhani and Raisi's presidency respectively"
   ]
  },
  {
   "cell_type": "code",
   "execution_count": 39,
   "metadata": {},
   "outputs": [
    {
     "name": "stdout",
     "output_type": "stream",
     "text": [
      "max price of dollar in ahmadinejad presidency: 13350\n",
      "max price of dollar in Rouhani presidency: 12850\n",
      "max price of dollar in raisi presidency: 251250\n"
     ]
    }
   ],
   "source": [
    "max_price_dollar_ahmadinejad=ahmadinejad['Low'].min()\n",
    "print(f'max price of dollar in ahmadinejad presidency: {max_price_dollar_ahmadinejad}')\n",
    "max_price_dollar_rouhani=rouhani['Low'].min()\n",
    "print(f'max price of dollar in Rouhani presidency: {max_price_dollar_rouhani}')\n",
    "max_price_dollar_raisi=raisi['Low'].min()\n",
    "print(f'max price of dollar in raisi presidency: {max_price_dollar_raisi}')"
   ]
  },
  {
   "cell_type": "markdown",
   "metadata": {},
   "source": [
    "|  -------------Min Dollar Price In 3 presidency---------------        |\n",
    "|-------------------------------------------------------------------------|\n",
    "\n",
    "|                  |     Price(Rial)    |\n",
    "|------------------|------------|\n",
    "|      min price of dollar in ahmadinejad presidency      | 13350 | \n",
    "|      min price of dollar in Rouhani presidency          | 12850 |\n",
    "|      min price of dollar in raisi presidency            | 251250 |"
   ]
  },
  {
   "cell_type": "markdown",
   "metadata": {},
   "source": [
    "## E. Split each dataset to train and test with train_test_split function"
   ]
  },
  {
   "cell_type": "code",
   "execution_count": 40,
   "metadata": {},
   "outputs": [
    {
     "data": {
      "text/html": [
       "<div>\n",
       "<style scoped>\n",
       "    .dataframe tbody tr th:only-of-type {\n",
       "        vertical-align: middle;\n",
       "    }\n",
       "\n",
       "    .dataframe tbody tr th {\n",
       "        vertical-align: top;\n",
       "    }\n",
       "\n",
       "    .dataframe thead th {\n",
       "        text-align: right;\n",
       "    }\n",
       "</style>\n",
       "<table border=\"1\" class=\"dataframe\">\n",
       "  <thead>\n",
       "    <tr style=\"text-align: right;\">\n",
       "      <th></th>\n",
       "      <th>index</th>\n",
       "      <th>Date</th>\n",
       "      <th>Open</th>\n",
       "      <th>Low</th>\n",
       "      <th>High</th>\n",
       "      <th>Close</th>\n",
       "    </tr>\n",
       "  </thead>\n",
       "  <tbody>\n",
       "    <tr>\n",
       "      <th>index</th>\n",
       "      <td>1.000000</td>\n",
       "      <td>-0.999471</td>\n",
       "      <td>-0.906595</td>\n",
       "      <td>-0.906979</td>\n",
       "      <td>-0.903370</td>\n",
       "      <td>-0.903989</td>\n",
       "    </tr>\n",
       "    <tr>\n",
       "      <th>Date</th>\n",
       "      <td>-0.999471</td>\n",
       "      <td>1.000000</td>\n",
       "      <td>0.905611</td>\n",
       "      <td>0.905984</td>\n",
       "      <td>0.902603</td>\n",
       "      <td>0.903232</td>\n",
       "    </tr>\n",
       "    <tr>\n",
       "      <th>Open</th>\n",
       "      <td>-0.906595</td>\n",
       "      <td>0.905611</td>\n",
       "      <td>1.000000</td>\n",
       "      <td>0.999067</td>\n",
       "      <td>0.998685</td>\n",
       "      <td>0.998398</td>\n",
       "    </tr>\n",
       "    <tr>\n",
       "      <th>Low</th>\n",
       "      <td>-0.906979</td>\n",
       "      <td>0.905984</td>\n",
       "      <td>0.999067</td>\n",
       "      <td>1.000000</td>\n",
       "      <td>0.997781</td>\n",
       "      <td>0.998602</td>\n",
       "    </tr>\n",
       "    <tr>\n",
       "      <th>High</th>\n",
       "      <td>-0.903370</td>\n",
       "      <td>0.902603</td>\n",
       "      <td>0.998685</td>\n",
       "      <td>0.997781</td>\n",
       "      <td>1.000000</td>\n",
       "      <td>0.999507</td>\n",
       "    </tr>\n",
       "    <tr>\n",
       "      <th>Close</th>\n",
       "      <td>-0.903989</td>\n",
       "      <td>0.903232</td>\n",
       "      <td>0.998398</td>\n",
       "      <td>0.998602</td>\n",
       "      <td>0.999507</td>\n",
       "      <td>1.000000</td>\n",
       "    </tr>\n",
       "  </tbody>\n",
       "</table>\n",
       "</div>"
      ],
      "text/plain": [
       "          index      Date      Open       Low      High     Close\n",
       "index  1.000000 -0.999471 -0.906595 -0.906979 -0.903370 -0.903989\n",
       "Date  -0.999471  1.000000  0.905611  0.905984  0.902603  0.903232\n",
       "Open  -0.906595  0.905611  1.000000  0.999067  0.998685  0.998398\n",
       "Low   -0.906979  0.905984  0.999067  1.000000  0.997781  0.998602\n",
       "High  -0.903370  0.902603  0.998685  0.997781  1.000000  0.999507\n",
       "Close -0.903989  0.903232  0.998398  0.998602  0.999507  1.000000"
      ]
     },
     "execution_count": 40,
     "metadata": {},
     "output_type": "execute_result"
    }
   ],
   "source": [
    "ahmadinejad.corr()"
   ]
  },
  {
   "cell_type": "code",
   "execution_count": 41,
   "metadata": {},
   "outputs": [
    {
     "name": "stdout",
     "output_type": "stream",
     "text": [
      "shape of x train ahmadinejad: (385, 1)\n",
      "shape of y train ahmadinejad: (385, 1)\n",
      "shape of x test ahmadinejad: (97, 1)\n",
      "shape of y test ahmadinejad: (97, 1)\n",
      "\n",
      "shape of x train rouhani: (1852, 1)\n",
      "shape of y train rouhani: (1852, 1)\n",
      "shape of x test rouhani: (464, 1)\n",
      "shape of y test rouhani: (464, 1)\n",
      "\n",
      "shape of x train raisi: (376, 1)\n",
      "shape of y train raisi: (376, 1)\n",
      "shape of x test raisi: (94, 1)\n",
      "shape of y test raisi: (94, 1)\n"
     ]
    }
   ],
   "source": [
    "from sklearn.model_selection import train_test_split\n",
    "\n",
    "ahmadinejad['Date']=ahmadinejad['Date'].dt.strftime('%Y%m%d')\n",
    "rouhani['Date']=rouhani['Date'].dt.strftime('%Y%m%d')\n",
    "raisi['Date']=raisi['Date'].dt.strftime('%Y%m%d')\n",
    "\n",
    "ahmadinejad[\"Date\"] = pd.to_numeric(ahmadinejad[\"Date\"] , errors='coerce')\n",
    "rouhani[\"Date\"] = pd.to_numeric(rouhani[\"Date\"] , errors='coerce')\n",
    "raisi[\"Date\"] = pd.to_numeric(raisi[\"Date\"] , errors='coerce')\n",
    "\n",
    "X_ahmadinejad=ahmadinejad['Date'].values\n",
    "Y_ahmadinejad=ahmadinejad['High'].values\n",
    "\n",
    "X_rouhani=rouhani['Date'].values\n",
    "Y_rouhani=rouhani['High'].values\n",
    "\n",
    "X_raisi=raisi['Date'].values\n",
    "Y_raisi=raisi['High'].values\n",
    "\n",
    "X_train_ahmadinejad, X_test_ahmadinejad,Y_train_ahmadinejad, Y_test_ahmadinejad=train_test_split(X_ahmadinejad,Y_ahmadinejad,test_size=0.2)\n",
    "X_train_rouhani, X_test_rouhani,Y_train_rouhani, Y_test_rouhani=train_test_split(X_rouhani,Y_rouhani,test_size=0.2)\n",
    "X_train_raisi, X_test_raisi,Y_train_raisi, Y_test_raisi=train_test_split(X_raisi,Y_raisi,test_size=0.2)\n",
    "\n",
    "X_train_ahmadinejad=X_train_ahmadinejad.reshape(-1,1)\n",
    "X_test_ahmadinejad=X_test_ahmadinejad.reshape(-1,1)\n",
    "Y_train_ahmadinejad=Y_train_ahmadinejad.reshape(-1,1)\n",
    "Y_test_ahmadinejad=Y_test_ahmadinejad.reshape(-1,1)\n",
    "\n",
    "X_train_rouhani=X_train_rouhani.reshape(-1,1)\n",
    "X_test_rouhani=X_test_rouhani.reshape(-1,1)\n",
    "Y_train_rouhani=Y_train_rouhani.reshape(-1,1)\n",
    "Y_test_rouhani=Y_test_rouhani.reshape(-1,1)\n",
    "\n",
    "X_train_raisi=X_train_raisi.reshape(-1,1)\n",
    "X_test_raisi=X_test_raisi.reshape(-1,1)\n",
    "Y_train_raisi=Y_train_raisi.reshape(-1,1)\n",
    "Y_test_raisi=Y_test_raisi.reshape(-1,1)\n",
    "\n",
    "print(f\"shape of x train ahmadinejad: {X_train_ahmadinejad.shape}\")\n",
    "print(f\"shape of y train ahmadinejad: {Y_train_ahmadinejad.shape}\")\n",
    "print(f\"shape of x test ahmadinejad: {X_test_ahmadinejad.shape}\")\n",
    "print(f\"shape of y test ahmadinejad: {Y_test_ahmadinejad.shape}\")\n",
    "print()\n",
    "print(f\"shape of x train rouhani: {X_train_rouhani.shape}\")\n",
    "print(f\"shape of y train rouhani: {Y_train_rouhani.shape}\")\n",
    "print(f\"shape of x test rouhani: {X_test_rouhani.shape}\")\n",
    "print(f\"shape of y test rouhani: {Y_test_rouhani.shape}\")\n",
    "print()\n",
    "print(f\"shape of x train raisi: {X_train_raisi.shape}\")\n",
    "print(f\"shape of y train raisi: {Y_train_raisi.shape}\")\n",
    "print(f\"shape of x test raisi: {X_test_raisi.shape}\")\n",
    "print(f\"shape of y test raisi: {Y_test_raisi.shape}\")"
   ]
  },
  {
   "cell_type": "markdown",
   "metadata": {},
   "source": [
    "## F. Fit the LLS model on each training dataset"
   ]
  },
  {
   "cell_type": "code",
   "execution_count": 43,
   "metadata": {},
   "outputs": [],
   "source": [
    "from lls import LinearLeastSquare\n",
    "\n",
    "my_lls_ahmadinejad= LinearLeastSquare()\n",
    "my_lls_rouhani= LinearLeastSquare()\n",
    "my_lls_raisi= LinearLeastSquare()\n",
    "my_lls_ahmadinejad.fit(X_train_ahmadinejad,Y_train_ahmadinejad)\n",
    "my_lls_rouhani.fit(X_train_rouhani,Y_train_rouhani)\n",
    "my_lls_raisi.fit(X_train_raisi,Y_train_raisi)\n",
    "\n",
    "Y_pred_ahmadinejad=my_lls_ahmadinejad.predict(X_test_ahmadinejad)\n",
    "Y_pred_rouhani=my_lls_rouhani.predict(X_test_rouhani)\n",
    "Y_pred_raisi=my_lls_raisi.predict(X_test_raisi)"
   ]
  },
  {
   "cell_type": "markdown",
   "metadata": {},
   "source": [
    "## G. Evaluate each model on test dataset using MAE loss function in Scikit-Learn"
   ]
  },
  {
   "cell_type": "code",
   "execution_count": 46,
   "metadata": {},
   "outputs": [
    {
     "name": "stdout",
     "output_type": "stream",
     "text": [
      "MAE for ahmadinejad presidency: 8058.283383502259\n",
      "MAE for rouhani presidency: 62206.575309224754\n",
      "MAE for raisi presidency: 81580.80689561363\n"
     ]
    }
   ],
   "source": [
    "from sklearn.metrics import mean_absolute_error\n",
    "\n",
    "\n",
    "mae_ahmadinejad=mean_absolute_error(Y_test_ahmadinejad,Y_pred_ahmadinejad)\n",
    "mae_rouhani=mean_absolute_error(Y_test_rouhani,Y_pred_rouhani)\n",
    "mae_raisi=mean_absolute_error(Y_test_raisi,Y_pred_raisi)\n",
    "\n",
    "print(f'MAE for ahmadinejad presidency: {mae_ahmadinejad}')\n",
    "print(f'MAE for rouhani presidency: {mae_rouhani}')\n",
    "print(f'MAE for raisi presidency: {mae_raisi}')"
   ]
  },
  {
   "cell_type": "markdown",
   "metadata": {},
   "source": [
    "| MAE for Dollar Price Prediction In 3 presidency       |\n",
    "|-------------------------------------------------------------------------|\n",
    "\n",
    "|                  |     Price(Rial)    |\n",
    "|------------------|------------|\n",
    "|      MAE for ahmadinejad presidency      | 8058.283383 | \n",
    "|      MAE for rouhani presidency          | 62206.575309 |\n",
    "|      MAE for raisi presidency            | 81580.806895 |"
   ]
  }
 ],
 "metadata": {
  "kernelspec": {
   "display_name": "Python 3",
   "language": "python",
   "name": "python3"
  },
  "language_info": {
   "codemirror_mode": {
    "name": "ipython",
    "version": 3
   },
   "file_extension": ".py",
   "mimetype": "text/x-python",
   "name": "python",
   "nbconvert_exporter": "python",
   "pygments_lexer": "ipython3",
   "version": "3.11.4"
  },
  "orig_nbformat": 4
 },
 "nbformat": 4,
 "nbformat_minor": 2
}
