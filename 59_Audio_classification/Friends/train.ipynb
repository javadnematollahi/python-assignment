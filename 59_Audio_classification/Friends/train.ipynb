{
 "cells": [
  {
   "cell_type": "code",
   "execution_count": 1,
   "metadata": {},
   "outputs": [],
   "source": [
    "import tensorflow as tf\n",
    "import os"
   ]
  },
  {
   "cell_type": "code",
   "execution_count": 23,
   "metadata": {},
   "outputs": [
    {
     "name": "stdout",
     "output_type": "stream",
     "text": [
      "Found 1615 files belonging to 18 classes.\n",
      "Using 1292 files for training.\n",
      "Found 1615 files belonging to 18 classes.\n",
      "Using 323 files for validation.\n"
     ]
    }
   ],
   "source": [
    "dataset_path = \"dataset\"\n",
    "\n",
    "train_data = tf.keras.utils.audio_dataset_from_directory(\n",
    "    dataset_path,\n",
    "    batch_size=4,\n",
    "    shuffle=True,\n",
    "    validation_split=0.2,\n",
    "    subset='training',\n",
    "    output_sequence_length=48000,\n",
    "    label_mode=\"categorical\",\n",
    "    labels=\"inferred\",\n",
    "    seed=59\n",
    ")\n",
    "\n",
    "validation_data = tf.keras.utils.audio_dataset_from_directory(\n",
    "    dataset_path,\n",
    "    batch_size=4,\n",
    "    shuffle=True,\n",
    "    validation_split=0.2,\n",
    "    subset='validation',\n",
    "    output_sequence_length=48000,\n",
    "    label_mode=\"categorical\",\n",
    "    labels=\"inferred\",\n",
    "    seed=59\n",
    ")"
   ]
  },
  {
   "cell_type": "code",
   "execution_count": 30,
   "metadata": {},
   "outputs": [],
   "source": [
    "model = tf.keras.models.Sequential([\n",
    "    tf.keras.layers.Conv1D(32, kernel_size=40, strides=16, activation='relu',input_shape=(48000,1)),\n",
    "    tf.keras.layers.MaxPool1D(4),\n",
    "    tf.keras.layers.Conv1D(128, kernel_size=3, activation='relu'),\n",
    "    tf.keras.layers.MaxPool1D(4),\n",
    "    tf.keras.layers.Conv1D(64, kernel_size=10, activation='relu'), \n",
    "    tf.keras.layers.MaxPool1D(4),  \n",
    "    tf.keras.layers.Conv1D(64, kernel_size=10, activation='relu'), \n",
    "    tf.keras.layers.MaxPool1D(4),  \n",
    "    tf.keras.layers.Conv1D(32, kernel_size=3, activation='relu'), \n",
    "    tf.keras.layers.MaxPool1D(4),  \n",
    "\n",
    "    tf.keras.layers.Flatten(),\n",
    "    tf.keras.layers.Dense(32,activation='relu'),\n",
    "    tf.keras.layers.Dense(18,activation='softmax')\n",
    "])"
   ]
  },
  {
   "cell_type": "code",
   "execution_count": 31,
   "metadata": {},
   "outputs": [],
   "source": [
    "model.compile(\n",
    "    optimizer=tf.keras.optimizers.Adam(),\n",
    "    loss=\"categorical_crossentropy\",\n",
    "    metrics=['accuracy']\n",
    ")\n",
    "\n",
    "checkpoint = tf.keras.callbacks.ModelCheckpoint(\"best_model_voice\",\n",
    "                                            save_best_only=True, monitor='val_accuracy')\n",
    "stop_early = tf.keras.callbacks.EarlyStopping(monitor='val_accuracy', patience=50)"
   ]
  },
  {
   "cell_type": "code",
   "execution_count": null,
   "metadata": {},
   "outputs": [],
   "source": [
    "model.fit(\n",
    "    train_data,\n",
    "    validation_data=validation_data,\n",
    "    epochs=150,\n",
    "    callbacks=[stop_early, checkpoint]\n",
    ")"
   ]
  },
  {
   "cell_type": "code",
   "execution_count": 34,
   "metadata": {},
   "outputs": [
    {
     "name": "stdout",
     "output_type": "stream",
     "text": [
      "81/81 [==============================] - 3s 33ms/step - loss: 0.8016 - accuracy: 0.9102\n"
     ]
    },
    {
     "data": {
      "text/plain": [
       "[0.8015758395195007, 0.9102166891098022]"
      ]
     },
     "execution_count": 34,
     "metadata": {},
     "output_type": "execute_result"
    }
   ],
   "source": [
    "loaded_model = tf.keras.models.load_model('best_model_voice')\n",
    "loaded_model.evaluate(validation_data)"
   ]
  },
  {
   "cell_type": "code",
   "execution_count": 98,
   "metadata": {},
   "outputs": [
    {
     "name": "stdout",
     "output_type": "stream",
     "text": [
      "Found 1 files belonging to 1 classes.\n",
      "1/1 [==============================] - 0s 197ms/step\n"
     ]
    },
    {
     "data": {
      "text/plain": [
       "array([[1.1512031e-16, 3.4618918e-27, 1.7685301e-22, 1.0000000e+00,\n",
       "        7.3078217e-37, 3.3823621e-08, 1.3705251e-21, 9.1422744e-16,\n",
       "        0.0000000e+00, 4.0546998e-28, 0.0000000e+00, 1.3558781e-26,\n",
       "        0.0000000e+00, 7.2986915e-20, 0.0000000e+00, 0.0000000e+00,\n",
       "        2.1297467e-25, 2.5654458e-35]], dtype=float32)"
      ]
     },
     "execution_count": 98,
     "metadata": {},
     "output_type": "execute_result"
    }
   ],
   "source": [
    "\n",
    "data = tf.keras.utils.audio_dataset_from_directory(\n",
    "    \"javad\",\n",
    "    # subset='training',\n",
    ")\n",
    "# print(validation_data)\n",
    "loaded_model.predict(data)"
   ]
  },
  {
   "cell_type": "markdown",
   "metadata": {},
   "source": [
    "## inference"
   ]
  },
  {
   "cell_type": "code",
   "execution_count": 7,
   "metadata": {},
   "outputs": [
    {
     "name": "stdout",
     "output_type": "stream",
     "text": [
      "Found 11 files belonging to 1 classes.\n",
      "1/1 [==============================] - 0s 238ms/step\n",
      "['abdollah', 'azra', 'davood', 'javad', 'kiana', 'matin', 'mohamad', 'mohamadd', 'mona', 'nima', 'omid', 'parisa', 'parsa', 'saeedi', 'sajedeh', 'shima', 'tara', 'valipour']\n",
      "median:  3.0\n",
      "[3, 3, 7, 5, 0, 2, 3, 2, 3, 2, 14]\n"
     ]
    },
    {
     "data": {
      "text/plain": [
       "'javad'"
      ]
     },
     "execution_count": 7,
     "metadata": {},
     "output_type": "execute_result"
    }
   ],
   "source": [
    "import pydub\n",
    "import tensorflow as tf\n",
    "import os\n",
    "import numpy as np\n",
    "\n",
    "path = \"javad/jav/javad_voice_test2.ogg\"\n",
    "audio = pydub.AudioSegment.from_file(path)\n",
    "os.makedirs(\"sample/voice_wav\",exist_ok=True)\n",
    "audio = audio.set_sample_width(2)\n",
    "audio = audio.set_frame_rate(48000)\n",
    "audio = audio.set_channels(1)\n",
    "chunks = pydub.silence.split_on_silence(audio, min_silence_len=2000, silence_thresh=-45)\n",
    "result = sum(chunks)\n",
    "# chunks = pydub.utils.make_chunks(result, 1000)\n",
    "# for i,chunk in enumerate(chunks):\n",
    "#     if len(chunk) >= 1000:\n",
    "#         chunk.export(f\"sample/voice_wav/sample_{i}.wav\", format=\"wav\")\n",
    "\n",
    "loaded_model = tf.keras.models.load_model('best_model_voice')\n",
    "\n",
    "persons = []\n",
    "for f in os.listdir(\"data\"):\n",
    "    persons.append(f.split('.')[0])\n",
    "\n",
    "result.export(f\"new_file.wav\", format=\"wav\")\n",
    "path = \"new_file.wav\"\n",
    "x = tf.io.read_file(path)\n",
    "x, sample_rate = tf.audio.decode_wav(x, desired_channels=1, desired_samples=48000,)\n",
    "x = tf.squeeze(x, axis=-1)\n",
    "x = x[tf.newaxis,...]\n",
    "\n",
    "pred = loaded_model(x)\n",
    "print(np.argmax(pred))\n",
    "print(\"someone send a voice: \",persons[np.argmax(pred)])"
   ]
  },
  {
   "cell_type": "code",
   "execution_count": 6,
   "metadata": {},
   "outputs": [
    {
     "data": {
      "text/plain": [
       "['chavoshi', 'ebi', 'rezasadeghi', 'shadmehr', 'yegane']"
      ]
     },
     "execution_count": 6,
     "metadata": {},
     "output_type": "execute_result"
    }
   ],
   "source": [
    "persons = []\n",
    "import os\n",
    "for f in os.listdir(\"singer_voices\\dataset\"):\n",
    "    persons.append(f)\n",
    "# persons.sort()\n",
    "persons"
   ]
  },
  {
   "cell_type": "code",
   "execution_count": null,
   "metadata": {},
   "outputs": [],
   "source": []
  }
 ],
 "metadata": {
  "kernelspec": {
   "display_name": "Python 3",
   "language": "python",
   "name": "python3"
  },
  "language_info": {
   "codemirror_mode": {
    "name": "ipython",
    "version": 3
   },
   "file_extension": ".py",
   "mimetype": "text/x-python",
   "name": "python",
   "nbconvert_exporter": "python",
   "pygments_lexer": "ipython3",
   "version": "3.11.4"
  }
 },
 "nbformat": 4,
 "nbformat_minor": 2
}
