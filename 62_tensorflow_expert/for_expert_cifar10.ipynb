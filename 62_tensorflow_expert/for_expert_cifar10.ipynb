{
  "nbformat": 4,
  "nbformat_minor": 0,
  "metadata": {
    "colab": {
      "provenance": [],
      "gpuType": "T4"
    },
    "kernelspec": {
      "name": "python3",
      "display_name": "Python 3"
    },
    "language_info": {
      "name": "python"
    },
    "accelerator": "GPU"
  },
  "cells": [
    {
      "cell_type": "code",
      "execution_count": 1,
      "metadata": {
        "id": "NSOb_h47wlXu"
      },
      "outputs": [],
      "source": [
        "import tensorflow as tf\n",
        "from tensorflow.keras.layers import Dense, Flatten, Conv2D"
      ]
    },
    {
      "cell_type": "code",
      "source": [
        "mnist = tf.keras.datasets.mnist\n",
        "cifar10 =  tf.keras.datasets.cifar10\n",
        "(x_train, y_train), (x_test, y_test) = cifar10.load_data()\n",
        "x_train = x_train / 255.0\n",
        "x_test = x_test/255.0\n",
        "\n",
        "x_train = x_train[..., tf.newaxis]#.astype(int)\n",
        "x_test = x_test[..., tf.newaxis]"
      ],
      "metadata": {
        "id": "XXkamj5gwyTJ",
        "colab": {
          "base_uri": "https://localhost:8080/"
        },
        "outputId": "326aff30-0ba7-4e21-dd57-03929a5b7983"
      },
      "execution_count": 2,
      "outputs": [
        {
          "output_type": "stream",
          "name": "stdout",
          "text": [
            "Downloading data from https://www.cs.toronto.edu/~kriz/cifar-10-python.tar.gz\n",
            "170498071/170498071 [==============================] - 4s 0us/step\n"
          ]
        }
      ]
    },
    {
      "cell_type": "code",
      "source": [
        "print(x_train[0].shape)\n",
        "print(x_test[0].shape)"
      ],
      "metadata": {
        "colab": {
          "base_uri": "https://localhost:8080/"
        },
        "id": "E3uTGSLTxjzc",
        "outputId": "c6e8b61a-82dc-4fa7-c835-4c0ce5bea4d6"
      },
      "execution_count": 3,
      "outputs": [
        {
          "output_type": "stream",
          "name": "stdout",
          "text": [
            "(32, 32, 3, 1)\n",
            "(32, 32, 3, 1)\n"
          ]
        }
      ]
    },
    {
      "cell_type": "code",
      "source": [
        "type(x_train[0])"
      ],
      "metadata": {
        "colab": {
          "base_uri": "https://localhost:8080/"
        },
        "id": "jz3pztO6xohh",
        "outputId": "766b0613-56ad-48f4-c5c3-d45a4542ea37"
      },
      "execution_count": 4,
      "outputs": [
        {
          "output_type": "execute_result",
          "data": {
            "text/plain": [
              "numpy.ndarray"
            ]
          },
          "metadata": {},
          "execution_count": 4
        }
      ]
    },
    {
      "cell_type": "code",
      "source": [
        "import cv2\n",
        "import numpy as np\n",
        "import matplotlib.pyplot as plt\n",
        "image = x_train[0, :, :, :]\n",
        "image = tf.squeeze(image, 3)\n",
        "print(image.shape)\n",
        "# image = cv2.cvtColor(image, cv2.COLOR_BGR2RGB)\n",
        "plt.imshow(image)\n",
        "plt.show()"
      ],
      "metadata": {
        "colab": {
          "base_uri": "https://localhost:8080/",
          "height": 448
        },
        "id": "plRg2UYgB6sf",
        "outputId": "06ae82a8-7c82-4c25-f725-2421c0373169"
      },
      "execution_count": 5,
      "outputs": [
        {
          "output_type": "stream",
          "name": "stdout",
          "text": [
            "(32, 32, 3)\n"
          ]
        },
        {
          "output_type": "display_data",
          "data": {
            "text/plain": [
              "<Figure size 640x480 with 1 Axes>"
            ],
            "image/png": "[encoded data removed]"
          },
          "metadata": {}
        }
      ]
    },
    {
      "cell_type": "code",
      "source": [
        "train_dataset = tf.data.Dataset.from_tensor_slices((x_train, y_train)).shuffle(1000).batch(32)\n",
        "test_dataset = tf.data.Dataset.from_tensor_slices((x_test, y_test)).batch(32)"
      ],
      "metadata": {
        "id": "U70qCwAKydz5"
      },
      "execution_count": 6,
      "outputs": []
    },
    {
      "cell_type": "code",
      "source": [
        "class MyModel(tf.keras.Model):\n",
        "  def __init__(self):\n",
        "    super().__init__()\n",
        "    self.conv1 = Conv2D(32, 3, activation=\"relu\", padding = 'same')\n",
        "    self.conv2 = Conv2D(64, 3, activation=\"relu\", padding = 'same')\n",
        "    self.conv3 = Conv2D(64, 3, activation=\"relu\")\n",
        "    self.conv4 = Conv2D(32, 3, activation=\"relu\")\n",
        "    self.conv5 = Conv2D(32, 3, activation=\"relu\")\n",
        "    self.conv6 = Conv2D(16, 3, activation=\"relu\")\n",
        "    self.pooling1 = tf.keras.layers.MaxPooling2D(pool_size=(2, 2))\n",
        "    self.pooling2 = tf.keras.layers.AveragePooling2D(pool_size=(2, 2))\n",
        "    self.pooling3 = tf.keras.layers.MaxPooling2D(pool_size=(2, 2))\n",
        "    self.batch1 = tf.keras.layers.BatchNormalization()\n",
        "    self.batch2 = tf.keras.layers.BatchNormalization()\n",
        "    self.dropout1 = tf.keras.layers.Dropout(0.2)\n",
        "    self.flatten = Flatten()\n",
        "    self.d1 = Dense(128, activation=\"relu\")\n",
        "    self.d2 = Dense(256, activation=\"relu\")\n",
        "    self.d3 = Dense(10, activation=\"softmax\")\n",
        "\n",
        "  def call(self, x):\n",
        "    x = self.conv1(x)\n",
        "    x = self.conv2(x)\n",
        "    x = self.pooling1(x)\n",
        "    x = self.conv3(x)\n",
        "    x = self.batch1(x)\n",
        "    x = self.conv4(x)\n",
        "    x = self.pooling2(x)\n",
        "    x = self.conv5(x)\n",
        "    x = self.conv6(x)\n",
        "    x = self.batch2(x)\n",
        "    x = self.pooling3(x)\n",
        "    x = self.flatten(x)\n",
        "    x = self.d2(x)\n",
        "    x = self.d1(x)\n",
        "    x = self.dropout1(x)\n",
        "    x = self.d3(x)\n",
        "\n",
        "    return x\n",
        "\n",
        "model = MyModel()\n"
      ],
      "metadata": {
        "id": "VrDx51Pqzgrj"
      },
      "execution_count": 7,
      "outputs": []
    },
    {
      "cell_type": "code",
      "source": [
        "loss_function = tf.keras.losses.SparseCategoricalCrossentropy()#from_logits=True)\n",
        "\n",
        "optimizer = tf.keras.optimizers.Adam()"
      ],
      "metadata": {
        "id": "wSpVCeAM3Vyb"
      },
      "execution_count": 8,
      "outputs": []
    },
    {
      "cell_type": "code",
      "source": [
        "train_loss = tf.keras.metrics.Mean()\n",
        "test_loss = tf.keras.metrics.Mean()\n",
        "\n",
        "train_accuracy = tf.keras.metrics.SparseCategoricalAccuracy()\n",
        "test_accuracy = tf.keras.metrics.SparseCategoricalAccuracy()"
      ],
      "metadata": {
        "id": "4WNMr-re4b9-"
      },
      "execution_count": 9,
      "outputs": []
    },
    {
      "cell_type": "code",
      "source": [
        "@tf.function\n",
        "def train(images, labels):\n",
        "    with tf.GradientTape() as tape:\n",
        "      pred = model(images)\n",
        "      loss = loss_function(labels, pred)\n",
        "    gradients = tape.gradient(loss, model.trainable_variables)\n",
        "    optimizer.apply_gradients(zip(gradients, model.trainable_variables))\n",
        "\n",
        "    train_loss(loss)\n",
        "    train_accuracy(labels, pred)"
      ],
      "metadata": {
        "id": "0d5cHfXyC6EJ"
      },
      "execution_count": 10,
      "outputs": []
    },
    {
      "cell_type": "code",
      "source": [
        "@tf.function\n",
        "def test(image, label):\n",
        "    pred = model(image)\n",
        "    loss = loss_function(label, pred)\n",
        "    test_loss(loss)\n",
        "    test_accuracy(label, pred)\n"
      ],
      "metadata": {
        "id": "BN2l0GESC_S9"
      },
      "execution_count": 11,
      "outputs": []
    },
    {
      "cell_type": "code",
      "source": [
        "epochs = 15\n",
        "best_accuracy = 0\n",
        "for epoch in range(epochs):\n",
        "  train_loss.reset_states()\n",
        "  train_accuracy.reset_states()\n",
        "  test_loss.reset_states()\n",
        "  test_accuracy.reset_states()\n",
        "\n",
        "  for images, labels in train_dataset:\n",
        "    images = tf.squeeze(images, 4)\n",
        "    train(images, labels)\n",
        "\n",
        "    #test\n",
        "  for image, label in test_dataset:\n",
        "    image = tf.squeeze(image, 4)\n",
        "    test(image, label)\n",
        "  if test_accuracy.result() > best_accuracy:\n",
        "    model.save(\"cifar10_best_model\")\n",
        "    best_accuracy = test_accuracy.result()\n",
        "  print(\"epoch:\", epoch+1,\n",
        "        f\"Train Loss: {train_loss.result()}\",\n",
        "        f\"Train accuracy: {train_accuracy.result()}\",\n",
        "        f\"Test Loss: {test_loss.result()}\",\n",
        "        f\"Test accuracy, {test_accuracy.result()}\")"
      ],
      "metadata": {
        "colab": {
          "base_uri": "https://localhost:8080/"
        },
        "id": "IPC0QFH-4-rY",
        "outputId": "28a2a25a-a9a3-4871-a2c4-393e69e4153b"
      },
      "execution_count": 12,
      "outputs": [
        {
          "output_type": "stream",
          "name": "stdout",
          "text": [
            "epoch: 1 Train Loss: 1.6489875316619873 Train accuracy: 0.38593998551368713 Test Loss: 1.3377329111099243 Test accuracy, 0.5051000118255615\n",
            "epoch: 2 Train Loss: 1.2259552478790283 Train accuracy: 0.5569800138473511 Test Loss: 1.1398799419403076 Test accuracy, 0.5938000082969666\n",
            "epoch: 3 Train Loss: 1.0457795858383179 Train accuracy: 0.6247400045394897 Test Loss: 1.044756531715393 Test accuracy, 0.6287999749183655\n",
            "epoch: 4 Train Loss: 0.92646324634552 Train accuracy: 0.6689599752426147 Test Loss: 0.9244273900985718 Test accuracy, 0.6754999756813049\n",
            "epoch: 5 Train Loss: 0.8452845215797424 Train accuracy: 0.6982799768447876 Test Loss: 0.8777270913124084 Test accuracy, 0.682699978351593\n",
            "epoch: 6 Train Loss: 0.7783346176147461 Train accuracy: 0.7249799966812134 Test Loss: 0.835374653339386 Test accuracy, 0.7095999717712402\n",
            "epoch: 7 Train Loss: 0.7213321328163147 Train accuracy: 0.7454800009727478 Test Loss: 0.9004119634628296 Test accuracy, 0.7002000212669373\n",
            "epoch: 8 Train Loss: 0.6860496997833252 Train accuracy: 0.7585200071334839 Test Loss: 0.8643392324447632 Test accuracy, 0.7106000185012817\n",
            "epoch: 9 Train Loss: 0.6454563736915588 Train accuracy: 0.7728400230407715 Test Loss: 0.7807880640029907 Test accuracy, 0.7350999712944031\n",
            "epoch: 10 Train Loss: 0.6111083030700684 Train accuracy: 0.7850199937820435 Test Loss: 0.7836747169494629 Test accuracy, 0.7402999997138977\n",
            "epoch: 11 Train Loss: 0.5828307867050171 Train accuracy: 0.7954199910163879 Test Loss: 0.7646632790565491 Test accuracy, 0.7469000220298767\n",
            "epoch: 12 Train Loss: 0.5534838438034058 Train accuracy: 0.8070999979972839 Test Loss: 0.8233482837677002 Test accuracy, 0.7342000007629395\n",
            "epoch: 13 Train Loss: 0.5340796709060669 Train accuracy: 0.8119800090789795 Test Loss: 0.7894185185432434 Test accuracy, 0.7483000159263611\n",
            "epoch: 14 Train Loss: 0.5043131709098816 Train accuracy: 0.8218399882316589 Test Loss: 0.7833583354949951 Test accuracy, 0.7493000030517578\n",
            "epoch: 15 Train Loss: 0.48832857608795166 Train accuracy: 0.8293600082397461 Test Loss: 0.8170309066772461 Test accuracy, 0.7465999722480774\n"
          ]
        }
      ]
    },
    {
      "cell_type": "code",
      "source": [
        "\n",
        "import cv2\n",
        "import numpy as np\n",
        "\n",
        "image = cv2.imread(\"frog.jpg\")\n",
        "# image = cv2.cvtColor(image, cv2.COLOR_BGR2GRAY)\n",
        "image = cv2.resize(image, (32, 32))\n",
        "# image = image[..., tf.newaxis]\n",
        "image = image[tf.newaxis, ...]\n",
        "image = image.astype(\"float32\")\n",
        "\n",
        "pred = model(image)\n",
        "pred = abs(pred)\n",
        "print(abs(pred))\n",
        "result = np.argmax(pred)\n",
        "labels = [\"airplane\", \"automobile\", \"bird\", \"cat\", \"deer\", \"dog\", \"frog\", \"horse\", \"ship\", \"truck\"]\n",
        "labels[result]"
      ],
      "metadata": {
        "id": "BSSAqDTaFgNm"
      },
      "execution_count": null,
      "outputs": []
    },
    {
      "cell_type": "code",
      "source": [
        "model.save(\"my_model\")"
      ],
      "metadata": {
        "id": "RvNbWIgEG9xc"
      },
      "execution_count": null,
      "outputs": []
    },
    {
      "cell_type": "code",
      "source": [
        "bestmodel = tf.keras.models.load_model(\"cifar10_best_model\")"
      ],
      "metadata": {
        "id": "k0gvVmqkHYo8"
      },
      "execution_count": null,
      "outputs": []
    },
    {
      "cell_type": "code",
      "source": [
        "for image, label in test_dataset:\n",
        "  image = tf.squeeze(image, 4)\n",
        "  pred = bestmodel(image)\n",
        "  loss = loss_function(label, pred)\n",
        "  test_loss(loss)\n",
        "  test_accuracy(label, pred)\n",
        "\n",
        "print( f\"Test Loss: {test_loss.result()}\",\n",
        "      f\"Test accuracy, {test_accuracy.result()}\")"
      ],
      "metadata": {
        "id": "Ho9z574THfFc"
      },
      "execution_count": null,
      "outputs": []
    }
  ]
}