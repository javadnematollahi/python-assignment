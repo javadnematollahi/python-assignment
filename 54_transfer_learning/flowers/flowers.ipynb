{
  "cells": [
    {
      "cell_type": "code",
      "execution_count": 15,
      "metadata": {
        "id": "2DoICLGFow8D"
      },
      "outputs": [],
      "source": [
        "import tensorflow as tf\n",
        "from tensorflow.keras import layers\n",
        "from tensorflow.keras import models\n",
        "from tensorflow.keras.preprocessing.image import ImageDataGenerator\n",
        "from keras.applications.vgg16 import preprocess_input\n",
        "import matplotlib.pyplot as plt\n",
        "import numpy as np\n",
        "from google.colab import drive"
      ]
    },
    {
      "cell_type": "code",
      "execution_count": 27,
      "metadata": {
        "colab": {
          "base_uri": "https://localhost:8080/"
        },
        "id": "eywIDkwjpDs4",
        "outputId": "00793b81-37c3-499a-d49b-70c6dd4de236"
      },
      "outputs": [
        {
          "name": "stdout",
          "output_type": "stream",
          "text": [
            "Mounted at /gdrive\n",
            "Found 1020 images belonging to 17 classes.\n",
            "Found 340 images belonging to 17 classes.\n"
          ]
        }
      ],
      "source": [
        "drive.mount('/gdrive', force_remount=True)\n",
        "dataset_path_train = \"/gdrive/MyDrive/dataset/flower/train\"\n",
        "dataset_path_test = \"/gdrive/MyDrive/dataset/flower/test\"\n",
        "\n",
        "idg=tf.keras.preprocessing.image.ImageDataGenerator(\n",
        "    rescale=1./255,\n",
        "    horizontal_flip=True,\n",
        "    brightness_range=(0.8,1),\n",
        "    zoom_range=0.1,\n",
        "    # validation_split=0.1,\n",
        "    preprocessing_function=preprocess_input\n",
        ")\n",
        "\n",
        "train_data=idg.flow_from_directory(\n",
        "    dataset_path_train,\n",
        "    target_size=(224,224),\n",
        "    class_mode='categorical',\n",
        "    batch_size=32,\n",
        "    shuffle=True,\n",
        "    subset='training',\n",
        ")\n",
        "val_data=idg.flow_from_directory(\n",
        "    dataset_path_test,\n",
        "    target_size=(224,224),\n",
        "    class_mode='categorical',\n",
        "    batch_size=32,\n",
        "    shuffle=True,\n",
        "    subset='training',\n",
        "\n",
        ")"
      ]
    },
    {
      "cell_type": "code",
      "execution_count": 69,
      "metadata": {
        "id": "xKztAVJupHoY"
      },
      "outputs": [],
      "source": [
        "model = tf.keras.applications.RegNetX032(include_top=False , weights=\"imagenet\", input_shape=(224,224,3))"
      ]
    },
    {
      "cell_type": "code",
      "execution_count": 70,
      "metadata": {
        "id": "voPFtRM2pJ23"
      },
      "outputs": [],
      "source": [
        "my_model = models.Sequential([\n",
        "    model,\n",
        "    layers.Flatten(),\n",
        "    layers.Dense(512, activation=\"relu\"),\n",
        "    layers.Dropout(0.2),\n",
        "    layers.Dense(256, activation=\"relu\"),\n",
        "    layers.Dropout(0.2),\n",
        "    layers.Dense(17, activation=\"softmax\"),\n",
        "])"
      ]
    },
    {
      "cell_type": "code",
      "execution_count": 73,
      "metadata": {
        "id": "FBLWYavXpL7f"
      },
      "outputs": [],
      "source": [
        "my_model.compile(optimizer = tf.keras.optimizers.Adam(learning_rate=0.001),\n",
        "              loss = tf.keras.losses.categorical_crossentropy,\n",
        "              metrics = ['accuracy'])\n",
        "\n",
        "checkpoint = tf.keras.callbacks.ModelCheckpoint(\"/gdrive/MyDrive/best_model\",\n",
        "                                            save_best_only=True)\n",
        "stop_early = tf.keras.callbacks.EarlyStopping(monitor='val_loss', patience=10)"
      ]
    },
    {
      "cell_type": "code",
      "execution_count": 74,
      "metadata": {
        "colab": {
          "base_uri": "https://localhost:8080/"
        },
        "id": "VtbJArtypM94",
        "outputId": "8b849c8d-c506-44ed-dfb5-6eec34c6efe4"
      },
      "outputs": [
        {
          "name": "stdout",
          "output_type": "stream",
          "text": [
            "Epoch 1/20\n",
            "32/32 [==============================] - 110s 2s/step - loss: 0.4863 - accuracy: 0.8696 - val_loss: 1.2893 - val_accuracy: 0.7294\n",
            "Epoch 2/20\n",
            "32/32 [==============================] - 64s 2s/step - loss: 0.2753 - accuracy: 0.9402 - val_loss: 0.8342 - val_accuracy: 0.8353\n",
            "Epoch 3/20\n",
            "32/32 [==============================] - 65s 2s/step - loss: 0.2143 - accuracy: 0.9373 - val_loss: 0.5786 - val_accuracy: 0.8588\n",
            "Epoch 4/20\n",
            "32/32 [==============================] - 29s 904ms/step - loss: 0.1701 - accuracy: 0.9461 - val_loss: 0.6203 - val_accuracy: 0.8559\n",
            "Epoch 5/20\n",
            "32/32 [==============================] - 29s 915ms/step - loss: 0.1604 - accuracy: 0.9529 - val_loss: 0.6085 - val_accuracy: 0.8647\n",
            "Epoch 6/20\n",
            "32/32 [==============================] - 29s 918ms/step - loss: 0.2666 - accuracy: 0.9382 - val_loss: 0.8793 - val_accuracy: 0.7971\n",
            "Epoch 7/20\n",
            "32/32 [==============================] - 65s 2s/step - loss: 0.2493 - accuracy: 0.9363 - val_loss: 0.4524 - val_accuracy: 0.8794\n",
            "Epoch 8/20\n",
            "32/32 [==============================] - 32s 987ms/step - loss: 0.1693 - accuracy: 0.9608 - val_loss: 0.9112 - val_accuracy: 0.7941\n",
            "Epoch 9/20\n",
            "32/32 [==============================] - 30s 923ms/step - loss: 0.2573 - accuracy: 0.9412 - val_loss: 0.7911 - val_accuracy: 0.8500\n",
            "Epoch 10/20\n",
            "32/32 [==============================] - 29s 913ms/step - loss: 0.1313 - accuracy: 0.9696 - val_loss: 0.8246 - val_accuracy: 0.8206\n",
            "Epoch 11/20\n",
            "32/32 [==============================] - 30s 929ms/step - loss: 0.1760 - accuracy: 0.9559 - val_loss: 0.7196 - val_accuracy: 0.8676\n",
            "Epoch 12/20\n",
            "32/32 [==============================] - 34s 1s/step - loss: 0.2088 - accuracy: 0.9431 - val_loss: 0.8362 - val_accuracy: 0.8471\n",
            "Epoch 13/20\n",
            "32/32 [==============================] - 29s 903ms/step - loss: 0.0912 - accuracy: 0.9784 - val_loss: 0.6358 - val_accuracy: 0.8559\n",
            "Epoch 14/20\n",
            "32/32 [==============================] - 29s 898ms/step - loss: 0.0900 - accuracy: 0.9725 - val_loss: 1.2331 - val_accuracy: 0.8471\n",
            "Epoch 15/20\n",
            "32/32 [==============================] - 29s 916ms/step - loss: 0.0711 - accuracy: 0.9794 - val_loss: 0.4953 - val_accuracy: 0.8765\n",
            "Epoch 16/20\n",
            "32/32 [==============================] - 29s 915ms/step - loss: 0.0640 - accuracy: 0.9833 - val_loss: 0.5127 - val_accuracy: 0.8794\n",
            "Epoch 17/20\n",
            "32/32 [==============================] - 68s 2s/step - loss: 0.0491 - accuracy: 0.9853 - val_loss: 0.4449 - val_accuracy: 0.9088\n",
            "Epoch 18/20\n",
            "32/32 [==============================] - 46s 1s/step - loss: 0.0845 - accuracy: 0.9745 - val_loss: 0.6512 - val_accuracy: 0.8618\n",
            "Epoch 19/20\n",
            "32/32 [==============================] - 30s 928ms/step - loss: 0.3597 - accuracy: 0.9108 - val_loss: 2.4673 - val_accuracy: 0.6265\n",
            "Epoch 20/20\n",
            "32/32 [==============================] - 30s 926ms/step - loss: 0.2408 - accuracy: 0.9431 - val_loss: 0.7454 - val_accuracy: 0.8382\n"
          ]
        }
      ],
      "source": [
        "history = my_model.fit(train_data, validation_data=val_data, epochs=20 ,callbacks=[stop_early, checkpoint])"
      ]
    },
    {
      "cell_type": "code",
      "execution_count": 79,
      "metadata": {
        "colab": {
          "base_uri": "https://localhost:8080/"
        },
        "id": "WgUSkA2JpPHP",
        "outputId": "feaf886d-defc-4f6a-e9e5-1fa756a0a162"
      },
      "outputs": [
        {
          "name": "stdout",
          "output_type": "stream",
          "text": [
            "11/11 [==============================] - 12s 736ms/step - loss: 0.4053 - accuracy: 0.9118\n"
          ]
        },
        {
          "data": {
            "text/plain": [
              "[0.4052784740924835, 0.9117646813392639]"
            ]
          },
          "execution_count": 79,
          "metadata": {},
          "output_type": "execute_result"
        }
      ],
      "source": [
        "loaded_model = tf.keras.models.load_model('/gdrive/MyDrive/best_model')\n",
        "# new_history = loaded_model.fit(train_dataset, epochs=20,\n",
        "#                     validation_data=test_dataset,\n",
        "#                     validation_steps=30,\n",
        "#                     callbacks=[stop_early, checkpoint],\n",
        "#                     )\n",
        "loaded_model.evaluate(val_data)"
      ]
    },
    {
      "cell_type": "code",
      "execution_count": 78,
      "metadata": {
        "colab": {
          "base_uri": "https://localhost:8080/"
        },
        "id": "FHqE2GiVrEUM",
        "outputId": "70b8798b-4a3b-43c9-ccd7-73970da3289a"
      },
      "outputs": [
        {
          "name": "stdout",
          "output_type": "stream",
          "text": [
            "Epoch 1/10\n",
            "32/32 [==============================] - 86s 1s/step - loss: 0.1705 - accuracy: 0.9588 - val_loss: 2.1046 - val_accuracy: 0.7471\n",
            "Epoch 2/10\n",
            "32/32 [==============================] - 29s 912ms/step - loss: 0.1865 - accuracy: 0.9569 - val_loss: 0.6783 - val_accuracy: 0.8618\n",
            "Epoch 3/10\n",
            "32/32 [==============================] - 29s 914ms/step - loss: 0.1783 - accuracy: 0.9578 - val_loss: 0.5989 - val_accuracy: 0.8500\n",
            "Epoch 4/10\n",
            "32/32 [==============================] - 34s 1s/step - loss: 0.1347 - accuracy: 0.9686 - val_loss: 0.4723 - val_accuracy: 0.9029\n",
            "Epoch 5/10\n",
            "32/32 [==============================] - 34s 1s/step - loss: 0.0346 - accuracy: 0.9931 - val_loss: 0.6315 - val_accuracy: 0.8882\n",
            "Epoch 6/10\n",
            "32/32 [==============================] - 29s 914ms/step - loss: 0.0273 - accuracy: 0.9941 - val_loss: 0.5355 - val_accuracy: 0.8794\n",
            "Epoch 7/10\n",
            "32/32 [==============================] - 82s 3s/step - loss: 0.0448 - accuracy: 0.9912 - val_loss: 0.4357 - val_accuracy: 0.9029\n",
            "Epoch 8/10\n",
            "32/32 [==============================] - 55s 2s/step - loss: 0.1264 - accuracy: 0.9755 - val_loss: 0.5612 - val_accuracy: 0.9029\n",
            "Epoch 9/10\n",
            "32/32 [==============================] - 29s 918ms/step - loss: 0.1445 - accuracy: 0.9725 - val_loss: 0.8085 - val_accuracy: 0.8441\n",
            "Epoch 10/10\n",
            "32/32 [==============================] - 29s 916ms/step - loss: 0.1368 - accuracy: 0.9657 - val_loss: 1.7541 - val_accuracy: 0.7882\n"
          ]
        }
      ],
      "source": [
        "loaded_model = tf.keras.models.load_model('/gdrive/MyDrive/best_model')\n",
        "new_history = loaded_model.fit(train_data, validation_data=val_data, epochs=10,\n",
        "                    callbacks=[stop_early, checkpoint],\n",
        "                    )"
      ]
    }
  ],
  "metadata": {
    "accelerator": "GPU",
    "colab": {
      "gpuType": "T4",
      "provenance": []
    },
    "kernelspec": {
      "display_name": "Python 3",
      "name": "python3"
    },
    "language_info": {
      "name": "python"
    }
  },
  "nbformat": 4,
  "nbformat_minor": 0
}
