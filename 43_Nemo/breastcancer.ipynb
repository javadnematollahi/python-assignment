{
 "cells": [
  {
   "cell_type": "markdown",
   "metadata": {},
   "source": [
    "## 1. Load the dataset with scikit-learn"
   ]
  },
  {
   "cell_type": "code",
   "execution_count": 2,
   "metadata": {},
   "outputs": [],
   "source": [
    "from sklearn.datasets import load_breast_cancer\n",
    "from sklearn.model_selection import train_test_split\n",
    "from sklearn.neighbors import KNeighborsClassifier\n",
    "from myknn import KNN\n",
    "\n",
    "breastcancer=load_breast_cancer()"
   ]
  },
  {
   "cell_type": "markdown",
   "metadata": {},
   "source": [
    "## 2. Split dataset to train and test datasets (%80 for train and %20 for test)."
   ]
  },
  {
   "cell_type": "code",
   "execution_count": 3,
   "metadata": {},
   "outputs": [],
   "source": [
    "X=breastcancer.data\n",
    "Y=breastcancer.target\n",
    "\n",
    "X_train, X_test,Y_train, Y_test=train_test_split(X,Y,test_size=0.2)"
   ]
  },
  {
   "cell_type": "markdown",
   "metadata": {},
   "source": [
    "## 3. Implement and fit your object oriented KNN algorithm on the train dataset."
   ]
  },
  {
   "cell_type": "code",
   "execution_count": 4,
   "metadata": {},
   "outputs": [],
   "source": [
    "knn=KNN(3)\n",
    "knn.fit(X_train,Y_train)"
   ]
  },
  {
   "cell_type": "markdown",
   "metadata": {},
   "source": [
    "## 4. Evaluate your KNN algorithm on the test dataset with different values of k = 3, 5, 7, ... and write accuracy results as a table in readme.md. "
   ]
  },
  {
   "cell_type": "code",
   "execution_count": 5,
   "metadata": {},
   "outputs": [
    {
     "data": {
      "text/html": [
       "<table><tr><td><h2>K</h2></td><td><h2>3</h2></td><td><h2>5</h2></td><td><h2>7</h2></td><td><h2>9</h2></td><td><h2>11</h2></td></tr><tr><td><h2>Accuracy</h2></td><td><h2>0.9035087719298246</h2></td><td><h2>0.8947368421052632</h2></td><td><h2>0.8947368421052632</h2></td><td><h2>0.8947368421052632</h2></td><td><h2>0.8947368421052632</h2></td></tr></table>"
      ],
      "text/plain": [
       "<IPython.core.display.HTML object>"
      ]
     },
     "metadata": {},
     "output_type": "display_data"
    }
   ],
   "source": [
    "from IPython.display import HTML, display\n",
    "\n",
    "def display_table(data):\n",
    "    html = \"<table>\"\n",
    "    for row in data:\n",
    "        html += \"<tr>\"\n",
    "        for field in row:\n",
    "            html += \"<td><h2>%s</h2></td>\"%(field)\n",
    "        html += \"</tr>\"\n",
    "    html += \"</table>\"\n",
    "    display(HTML(html))\n",
    "\n",
    "accuracytable=[[],[]]\n",
    "k=accuracytable[0]\n",
    "acc=accuracytable[1]\n",
    "k.append('K')\n",
    "acc.append('Accuracy')\n",
    "\n",
    "for i in range(3,13,2):\n",
    "    knn=KNN(i)\n",
    "    k.append(i)\n",
    "    knn.fit(X_train,Y_train)\n",
    "    accuracy=knn.evaluate(X_test,Y_test)\n",
    "    acc.append(accuracy)\n",
    "\n",
    "\n",
    "\n",
    "\n",
    "\n",
    "\n",
    "display_table(accuracytable)"
   ]
  },
  {
   "cell_type": "markdown",
   "metadata": {},
   "source": [
    "## 5. Calculate confusion matrix for test dataset (3x3)."
   ]
  },
  {
   "cell_type": "code",
   "execution_count": 6,
   "metadata": {},
   "outputs": [
    {
     "data": {
      "image/png": "[encoded data removed]",
      "text/plain": [
       "<Figure size 640x480 with 2 Axes>"
      ]
     },
     "metadata": {},
     "output_type": "display_data"
    }
   ],
   "source": [
    "import matplotlib.pyplot as plt\n",
    "from sklearn.metrics import confusion_matrix\n",
    "from sklearn import metrics\n",
    "\n",
    "\n",
    "\n",
    "y_pred = knn.predict(X_test)\n",
    "confusion=confusion_matrix(Y_test, y_pred)\n",
    "cm_display = metrics.ConfusionMatrixDisplay(confusion_matrix = confusion, display_labels = [\"malignant\", \"benign\"])\n",
    "cm_display.plot()\n",
    "plt.show()\n"
   ]
  }
 ],
 "metadata": {
  "kernelspec": {
   "display_name": "Python 3",
   "language": "python",
   "name": "python3"
  },
  "language_info": {
   "codemirror_mode": {
    "name": "ipython",
    "version": 3
   },
   "file_extension": ".py",
   "mimetype": "text/x-python",
   "name": "python",
   "nbconvert_exporter": "python",
   "pygments_lexer": "ipython3",
   "version": "3.11.4"
  },
  "orig_nbformat": 4
 },
 "nbformat": 4,
 "nbformat_minor": 2
}
