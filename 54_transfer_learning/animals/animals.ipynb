{
  "cells": [
    {
      "cell_type": "markdown",
      "metadata": {
        "id": "-PehMmO5v1K5"
      },
      "source": [
        "# Animals"
      ]
    },
    {
      "cell_type": "code",
      "execution_count": 2,
      "metadata": {
        "id": "1hRaP1X1v4eB"
      },
      "outputs": [],
      "source": [
        "import tensorflow as tf\n",
        "from tensorflow.keras import layers\n",
        "from tensorflow.keras import models\n",
        "from tensorflow.keras.preprocessing.image import ImageDataGenerator\n",
        "from keras.applications.vgg16 import VGG16, preprocess_input\n",
        "import matplotlib.pyplot as plt\n",
        "import numpy as np\n",
        "from google.colab import drive"
      ]
    },
    {
      "cell_type": "code",
      "execution_count": 3,
      "metadata": {
        "colab": {
          "base_uri": "https://localhost:8080/"
        },
        "id": "acE2qH6cv94G",
        "outputId": "6be13e2b-94c1-4fb0-b2cb-fae948ba9291"
      },
      "outputs": [
        {
          "name": "stdout",
          "output_type": "stream",
          "text": [
            "Mounted at /gdrive\n",
            "Found 1171 images belonging to 5 classes.\n",
            "Found 128 images belonging to 5 classes.\n"
          ]
        }
      ],
      "source": [
        "drive.mount('/gdrive', force_remount=True)\n",
        "dataset_path_train = \"/gdrive/MyDrive/dataset/animal\"\n",
        "\n",
        "idg=tf.keras.preprocessing.image.ImageDataGenerator(\n",
        "    rescale=1./255,\n",
        "    horizontal_flip=True,\n",
        "    brightness_range=(0.8,1),\n",
        "    zoom_range=0.1,\n",
        "    validation_split=0.1,\n",
        "    preprocessing_function=preprocess_input\n",
        ")\n",
        "\n",
        "train_data_animal=idg.flow_from_directory(\n",
        "    dataset_path_train,\n",
        "    target_size=(224,224),\n",
        "    class_mode='categorical',\n",
        "    batch_size=32,\n",
        "    shuffle=True,\n",
        "    subset='training',\n",
        ")\n",
        "val_data_animal=idg.flow_from_directory(\n",
        "    dataset_path_train,\n",
        "    target_size=(224,224),\n",
        "    class_mode='categorical',\n",
        "    batch_size=32,\n",
        "    shuffle=True,\n",
        "    subset='validation',\n",
        ")"
      ]
    },
    {
      "cell_type": "code",
      "execution_count": 4,
      "metadata": {
        "id": "Dg0aFwhNx7R3"
      },
      "outputs": [],
      "source": [
        "model = tf.keras.applications.RegNetX032(include_top=False , weights=\"imagenet\", input_shape=(224,224,3))"
      ]
    },
    {
      "cell_type": "code",
      "execution_count": 5,
      "metadata": {
        "id": "yDusHTQKx-8w"
      },
      "outputs": [],
      "source": [
        "my_model_animal = models.Sequential([\n",
        "    model,\n",
        "    layers.Flatten(),\n",
        "    layers.Dense(512, activation=\"relu\"),\n",
        "    layers.Dropout(0.2),\n",
        "    layers.Dense(256, activation=\"relu\"),\n",
        "    layers.Dropout(0.2),\n",
        "    layers.Dense(5, activation=\"softmax\"),\n",
        "\n",
        "])"
      ]
    },
    {
      "cell_type": "code",
      "execution_count": 6,
      "metadata": {
        "id": "Adm2zmHiyCHf"
      },
      "outputs": [],
      "source": [
        "my_model_animal.compile(optimizer = tf.keras.optimizers.Adam(learning_rate=0.001),\n",
        "              loss = tf.keras.losses.categorical_crossentropy,\n",
        "              metrics = ['accuracy'])\n",
        "\n",
        "checkpoint = tf.keras.callbacks.ModelCheckpoint(\"/gdrive/MyDrive/best_model_animal\",\n",
        "                                            save_best_only=True)\n",
        "stop_early = tf.keras.callbacks.EarlyStopping(monitor='val_loss', patience=10)"
      ]
    },
    {
      "cell_type": "code",
      "execution_count": 7,
      "metadata": {
        "colab": {
          "base_uri": "https://localhost:8080/"
        },
        "id": "rqeA72wVyOdf",
        "outputId": "1bd45353-0d79-411a-fd84-b377d23f9718"
      },
      "outputs": [
        {
          "name": "stdout",
          "output_type": "stream",
          "text": [
            "Epoch 1/20\n",
            "37/37 [==============================] - 169s 3s/step - loss: 3.5191 - accuracy: 0.6473 - val_loss: 2.3787 - val_accuracy: 0.4141\n",
            "Epoch 2/20\n",
            "37/37 [==============================] - 73s 2s/step - loss: 0.6624 - accuracy: 0.7805 - val_loss: 0.7084 - val_accuracy: 0.7188\n",
            "Epoch 3/20\n",
            "37/37 [==============================] - 72s 2s/step - loss: 0.4316 - accuracy: 0.8642 - val_loss: 0.6871 - val_accuracy: 0.7812\n",
            "Epoch 4/20\n",
            "37/37 [==============================] - 39s 1s/step - loss: 0.2107 - accuracy: 0.9231 - val_loss: 5.5321 - val_accuracy: 0.7188\n",
            "Epoch 5/20\n",
            "37/37 [==============================] - 71s 2s/step - loss: 0.2230 - accuracy: 0.9342 - val_loss: 0.2375 - val_accuracy: 0.8984\n",
            "Epoch 6/20\n",
            "37/37 [==============================] - 39s 1s/step - loss: 0.0908 - accuracy: 0.9641 - val_loss: 0.9175 - val_accuracy: 0.8125\n",
            "Epoch 7/20\n",
            "37/37 [==============================] - 37s 1000ms/step - loss: 0.2026 - accuracy: 0.9300 - val_loss: 1.7167 - val_accuracy: 0.8359\n",
            "Epoch 8/20\n",
            "37/37 [==============================] - 38s 1s/step - loss: 0.2039 - accuracy: 0.9394 - val_loss: 0.5760 - val_accuracy: 0.8203\n",
            "Epoch 9/20\n",
            "37/37 [==============================] - 38s 1s/step - loss: 0.1834 - accuracy: 0.9599 - val_loss: 2.0273 - val_accuracy: 0.6875\n",
            "Epoch 10/20\n",
            "37/37 [==============================] - 38s 1s/step - loss: 0.2851 - accuracy: 0.9249 - val_loss: 0.6226 - val_accuracy: 0.7812\n",
            "Epoch 11/20\n",
            "37/37 [==============================] - 38s 1s/step - loss: 0.1954 - accuracy: 0.9402 - val_loss: 0.7185 - val_accuracy: 0.7656\n",
            "Epoch 12/20\n",
            "37/37 [==============================] - 38s 1s/step - loss: 0.1006 - accuracy: 0.9701 - val_loss: 0.4845 - val_accuracy: 0.8594\n",
            "Epoch 13/20\n",
            "37/37 [==============================] - 38s 1s/step - loss: 0.1633 - accuracy: 0.9462 - val_loss: 0.4313 - val_accuracy: 0.8359\n",
            "Epoch 14/20\n",
            "37/37 [==============================] - 40s 1s/step - loss: 0.1354 - accuracy: 0.9667 - val_loss: 0.6834 - val_accuracy: 0.8047\n",
            "Epoch 15/20\n",
            "37/37 [==============================] - 37s 996ms/step - loss: 0.1167 - accuracy: 0.9667 - val_loss: 0.4396 - val_accuracy: 0.9141\n"
          ]
        }
      ],
      "source": [
        "history_animal = my_model_animal.fit(train_data_animal, validation_data=val_data_animal, epochs=20 ,callbacks=[stop_early, checkpoint])"
      ]
    },
    {
      "cell_type": "code",
      "execution_count": 9,
      "metadata": {
        "colab": {
          "base_uri": "https://localhost:8080/"
        },
        "id": "A3HNmv0643ja",
        "outputId": "8940b2bc-4790-4c51-d4ad-4e0361ed1800"
      },
      "outputs": [
        {
          "name": "stdout",
          "output_type": "stream",
          "text": [
            "4/4 [==============================] - 6s 320ms/step - loss: 0.2015 - accuracy: 0.9297\n"
          ]
        },
        {
          "data": {
            "text/plain": [
              "[0.20148488879203796, 0.9296875]"
            ]
          },
          "execution_count": 9,
          "metadata": {},
          "output_type": "execute_result"
        }
      ],
      "source": [
        "loaded_model_animal = tf.keras.models.load_model('/gdrive/MyDrive/best_model_animal')\n",
        "# new_history = loaded_model.fit(train_dataset, epochs=20,\n",
        "#                     validation_data=test_dataset,\n",
        "#                     validation_steps=30,\n",
        "#                     callbacks=[stop_early, checkpoint],\n",
        "#                     )\n",
        "loaded_model_animal.evaluate(val_data_animal)"
      ]
    }
  ],
  "metadata": {
    "accelerator": "GPU",
    "colab": {
      "gpuType": "T4",
      "provenance": []
    },
    "kernelspec": {
      "display_name": "Python 3",
      "name": "python3"
    },
    "language_info": {
      "name": "python"
    }
  },
  "nbformat": 4,
  "nbformat_minor": 0
}
